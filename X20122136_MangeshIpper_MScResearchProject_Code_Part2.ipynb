{
 "cells": [
  {
   "cell_type": "markdown",
   "metadata": {},
   "source": [
    "#                                                 x20122136_ResearchProject_HKDataset_Part_2"
   ]
  },
  {
   "cell_type": "markdown",
   "metadata": {},
   "source": [
    "# Table of Contents\n",
    "\n",
    "1. [Objective](#section1)<br>\n",
    "2. [Importing Packages](#section2)<br>\n",
    "3. [Load CSV's](#section3)<br>\n",
    "4. [EDA](#section4)<br>\n",
    "  - 4.1 [EDA report on reaces data](#section401)<br>\n",
    "  - 4.2 [EDA report on runs data](#section402)<br>\n",
    "5. [Data Pre-Processing](#section5)\n",
    "  - 5.1 [Prepare races data from races.csv](#section501)<br>\n",
    "  - 5.2 [Prepare races data from runs.csv](#section502)<br>\n",
    "  - 5.3 [Further preprocessing for runs data](#section503)<br>\n",
    "  <br>\n",
    "6. [Prepare training and test data ](#section6)<br>\n",
    "7. [SVM](#section7)\n",
    "  - 7.1 [SVM tune parameter](#section701)<br>\n",
    "  <br>\n",
    "8. [Random forest ](#section8)<br>\n",
    "  - 8.1 [Random forest tune parameter](#section801)<br>\n",
    "  <br>\n",
    "9. [Naive Bayes ](#section9)<br>\n",
    "  - 9.1 [Naive Bayes  tune parameter](#section901)<br>\n",
    "  <br>\n",
    "10. [KNN ](#section10)<br>\n",
    "  <br>\n",
    "11. [Decision Tree ](#section11)<br>\n",
    "  <br>\n",
    "12. [XGBooster ](#section12)<br>\n",
    "  <br>"
   ]
  },
  {
   "cell_type": "markdown",
   "metadata": {},
   "source": [
    "## 1. Objective <a id=section1></a>\n",
    "\n",
    "In this notebook applied deep learning algorithm on HK dataset to extend its accuracy using SVM, Randomforest, Naive Bayes, KNN, Decision tree, XGBoost algorithms."
   ]
  },
  {
   "cell_type": "markdown",
   "metadata": {},
   "source": [
    "## 2. Import packages <a id=section2>\n",
    "Here, we import common packages for Machine Learning."
   ]
  },
  {
   "cell_type": "code",
   "execution_count": null,
   "metadata": {},
   "outputs": [],
   "source": [
    "!pip install pandas\n",
    "!pip install numpy\n",
    "!pip install tensorflow\n",
    "!pip install scikit-learn\n",
    "!pip install matplotlib\n",
    "!pip install pandas-profiling\n",
    "!pip install xgboost\n",
    "!pip install hyperopt"
   ]
  },
  {
   "cell_type": "code",
   "execution_count": null,
   "metadata": {
    "_cell_guid": "b1076dfc-b9ad-4769-8c92-a6c4dae69d19",
    "_uuid": "8f2839f25d086af736a60e9eeb907d3b93b6e0e5",
    "execution": {
     "iopub.execute_input": "2021-12-14T10:48:47.386044Z",
     "iopub.status.busy": "2021-12-14T10:48:47.385692Z",
     "iopub.status.idle": "2021-12-14T10:48:50.899464Z",
     "shell.execute_reply": "2021-12-14T10:48:50.898549Z",
     "shell.execute_reply.started": "2021-12-14T10:48:47.385931Z"
    }
   },
   "outputs": [],
   "source": [
    "import pandas as pd\n",
    "import numpy as np\n",
    "import tensorflow as tf\n",
    "import sklearn.preprocessing as preprocessing\n",
    "import sklearn.model_selection as model_selection\n",
    "import matplotlib.pyplot as plt\n",
    "import xgboost as xgb\n",
    "from pandas_profiling import ProfileReport\n",
    "from sklearn.svm import SVC\n",
    "from sklearn.ensemble import RandomForestClassifier\n",
    "from sklearn.model_selection import GridSearchCV\n",
    "from sklearn.model_selection import cross_val_score\n",
    "from sklearn.naive_bayes import GaussianNB\n",
    "from sklearn.neighbors import KNeighborsClassifier\n",
    "from sklearn import tree\n",
    "from sklearn.metrics import accuracy_score\n",
    "from sklearn.metrics import confusion_matrix\n",
    "from sklearn.metrics import classification_report\n",
    "from hyperopt import STATUS_OK, Trials, fmin, hp, tpe\n"
   ]
  },
  {
   "cell_type": "markdown",
   "metadata": {},
   "source": [
    "## 3. Load CSV's <a id=section3>"
   ]
  },
  {
   "cell_type": "code",
   "execution_count": null,
   "metadata": {
    "execution": {
     "iopub.execute_input": "2021-12-14T10:48:50.901582Z",
     "iopub.status.busy": "2021-12-14T10:48:50.901292Z",
     "iopub.status.idle": "2021-12-14T10:48:51.332517Z",
     "shell.execute_reply": "2021-12-14T10:48:51.331752Z",
     "shell.execute_reply.started": "2021-12-14T10:48:50.901546Z"
    }
   },
   "outputs": [],
   "source": [
    "races_df = pd.read_csv(r\"races.csv\", delimiter=\",\", header=0, index_col='race_id')\n",
    "runs_df = pd.read_csv(r\"runs.csv\", delimiter=\",\", header=0)\n",
    "print(races_df.shape)\n",
    "print(runs_df.shape)"
   ]
  },
  {
   "cell_type": "markdown",
   "metadata": {},
   "source": [
    "## 4. EDA <a id=section4>"
   ]
  },
  {
   "cell_type": "markdown",
   "metadata": {},
   "source": [
    "### 4.1. EDA report on reaces data <a id=section401>"
   ]
  },
  {
   "cell_type": "code",
   "execution_count": null,
   "metadata": {
    "execution": {
     "iopub.execute_input": "2021-12-14T10:48:51.334542Z",
     "iopub.status.busy": "2021-12-14T10:48:51.334127Z",
     "iopub.status.idle": "2021-12-14T10:48:51.338927Z",
     "shell.execute_reply": "2021-12-14T10:48:51.338253Z",
     "shell.execute_reply.started": "2021-12-14T10:48:51.334505Z"
    }
   },
   "outputs": [],
   "source": [
    "# races_profile = ProfileReport(races_df, title=\"Pandas Profiling Races Report\")\n",
    "\n",
    "# races_profile.to_file(\"eda_races.html\")\n",
    "\n",
    "# races_profile"
   ]
  },
  {
   "cell_type": "markdown",
   "metadata": {},
   "source": [
    "### 4.2. EDA report on runs data <a id=section402>"
   ]
  },
  {
   "cell_type": "code",
   "execution_count": null,
   "metadata": {
    "execution": {
     "iopub.execute_input": "2021-12-14T10:48:51.341670Z",
     "iopub.status.busy": "2021-12-14T10:48:51.340910Z",
     "iopub.status.idle": "2021-12-14T10:48:51.348957Z",
     "shell.execute_reply": "2021-12-14T10:48:51.348198Z",
     "shell.execute_reply.started": "2021-12-14T10:48:51.341635Z"
    }
   },
   "outputs": [],
   "source": [
    "# runs_profile = ProfileReport(runs_df, title=\"Pandas Profiling Runs Report\")\n",
    "\n",
    "# runs_profile.to_file(\"eda_runs.html\")\n",
    "\n",
    "# runs_profile"
   ]
  },
  {
   "cell_type": "markdown",
   "metadata": {},
   "source": [
    "## 5. Data Pre-Processing<a id=section5>"
   ]
  },
  {
   "cell_type": "markdown",
   "metadata": {},
   "source": [
    "## 5.1. Prepare races data from races.csv <a id=section501>\n",
    "Only select several, then use different encoders for different types of attribute."
   ]
  },
  {
   "cell_type": "code",
   "execution_count": null,
   "metadata": {
    "_cell_guid": "79c7e3d0-c299-4dcb-8224-4455121ee9b0",
    "_uuid": "d629ff2d2480ee46fbb7e2d37f6b5fab8052498a",
    "execution": {
     "iopub.execute_input": "2021-12-14T10:48:51.350483Z",
     "iopub.status.busy": "2021-12-14T10:48:51.350141Z",
     "iopub.status.idle": "2021-12-14T10:48:51.385022Z",
     "shell.execute_reply": "2021-12-14T10:48:51.384272Z",
     "shell.execute_reply.started": "2021-12-14T10:48:51.350448Z"
    }
   },
   "outputs": [],
   "source": [
    "races_df = races_df[['venue', 'config', 'surface', 'distance', 'going', 'race_class']]\n",
    "\n",
    "# check to see if we have NaN, then drop NaN\n",
    "print(races_df.isnull().sum())\n",
    "print(races_df[races_df.isnull().any(axis=1)])\n",
    "races_df = races_df.dropna()\n",
    "\n",
    "\n",
    "print(races_df.head())"
   ]
  },
  {
   "cell_type": "code",
   "execution_count": null,
   "metadata": {},
   "outputs": [],
   "source": [
    "# encode ordinal columns: config, going, \n",
    "config_encoder = preprocessing.OrdinalEncoder()\n",
    "races_df['config'] = config_encoder.fit_transform(races_df['config'].values.reshape(-1, 1))\n",
    "going_encoder = preprocessing.OrdinalEncoder()\n",
    "races_df['going'] = going_encoder.fit_transform(races_df['going'].values.reshape(-1, 1))"
   ]
  },
  {
   "cell_type": "code",
   "execution_count": null,
   "metadata": {},
   "outputs": [],
   "source": [
    "# encode nominal column: venue\n",
    "venue_encoder = preprocessing.LabelEncoder()\n",
    "races_df['venue'] = venue_encoder.fit_transform(races_df['venue'])\n",
    "\n",
    "print(races_df.dtypes)\n",
    "print(races_df.shape)\n",
    "print(races_df.head())"
   ]
  },
  {
   "cell_type": "markdown",
   "metadata": {},
   "source": [
    "## 5.2. Prepare races data from runs.csv <a id=section502>\n",
    "Similar to races data, only select columns that are relevant to the model. \n"
   ]
  },
  {
   "cell_type": "code",
   "execution_count": null,
   "metadata": {
    "execution": {
     "iopub.execute_input": "2021-12-14T10:48:51.386605Z",
     "iopub.status.busy": "2021-12-14T10:48:51.386368Z",
     "iopub.status.idle": "2021-12-14T10:48:51.500102Z",
     "shell.execute_reply": "2021-12-14T10:48:51.499487Z",
     "shell.execute_reply.started": "2021-12-14T10:48:51.386573Z"
    }
   },
   "outputs": [],
   "source": [
    "runs_df = runs_df[['race_id', 'draw', \n",
    "                   'horse_age', 'horse_country', 'horse_type', 'horse_rating', 'declared_weight', 'actual_weight', 'win_odds', \n",
    "                   'result']] \n",
    "\n",
    "# check to see if we have NaN, then drop NaN\n",
    "print(runs_df[runs_df.isnull().any(axis=1)])\n",
    "runs_df = runs_df.dropna()\n",
    "\n",
    "\n",
    "# not sure why, but we got some strange draw in the dataset. Maximum shall be 14\n",
    "strange_draw_index = runs_df[runs_df['draw'] > 14].index\n",
    "# delete these row indexes from dataFrame\n",
    "runs_df = runs_df.drop(strange_draw_index)"
   ]
  },
  {
   "cell_type": "code",
   "execution_count": null,
   "metadata": {},
   "outputs": [],
   "source": [
    "# encode nominal columns: horse_country, horse_type\n",
    "horse_country_encoder = preprocessing.LabelEncoder()\n",
    "runs_df['horse_country'] = horse_country_encoder.fit_transform(runs_df['horse_country'])\n",
    "horse_type_encoder = preprocessing.LabelEncoder()\n",
    "runs_df['horse_type'] = horse_type_encoder.fit_transform(runs_df['horse_type'])\n",
    "\n",
    "print(runs_df.dtypes)\n",
    "print(runs_df.shape)\n",
    "print('Label encoded Dataframe:', runs_df.head())"
   ]
  },
  {
   "cell_type": "markdown",
   "metadata": {},
   "source": [
    "## 5.3. Further preprocessing for runs data <a id=section503>"
   ]
  },
  {
   "cell_type": "code",
   "execution_count": null,
   "metadata": {
    "execution": {
     "iopub.execute_input": "2021-12-14T10:48:51.503106Z",
     "iopub.status.busy": "2021-12-14T10:48:51.502289Z",
     "iopub.status.idle": "2021-12-14T10:48:51.562333Z",
     "shell.execute_reply": "2021-12-14T10:48:51.561577Z",
     "shell.execute_reply.started": "2021-12-14T10:48:51.503066Z"
    }
   },
   "outputs": [],
   "source": [
    "def group_horse_and_result(element):\n",
    "    if element[0] == 'result':\n",
    "        return 100 + element[1] # to make sure results are put near the end\n",
    "    else:\n",
    "        return element[1]   \n",
    "\n",
    "runs_df = runs_df.pivot(index='race_id', columns='draw', values=runs_df.columns[2:])\n",
    "rearranged_columns = sorted(list(runs_df.columns.values), key=group_horse_and_result)\n",
    "runs_df = runs_df[rearranged_columns]\n",
    "\n",
    "# quite some NaNs appreared in the dataframe, reason is some races didnt have full 14 horses participating\n",
    "# fill with 0\n",
    "runs_df = runs_df.fillna(0)\n",
    "\n",
    "print('After pivot, all the 14 horses',runs_df.head())"
   ]
  },
  {
   "cell_type": "markdown",
   "metadata": {},
   "source": [
    "## 6. Prepare training and test data <a id=section6>\n",
    "Here, we combine races data and runs data by `join` two data frames above. \n",
    "\n",
    "### Split data into train/test sets\n",
    "\n",
    "sklearn comes with such a handy method `train_test_split`. We split the data as following:\n",
    "- 70% for training\n",
    "- 30% for testing(validation)\n"
   ]
  },
  {
   "cell_type": "code",
   "execution_count": null,
   "metadata": {
    "execution": {
     "iopub.execute_input": "2021-12-14T10:48:51.564074Z",
     "iopub.status.busy": "2021-12-14T10:48:51.563659Z",
     "iopub.status.idle": "2021-12-14T10:48:52.006112Z",
     "shell.execute_reply": "2021-12-14T10:48:52.005285Z",
     "shell.execute_reply.started": "2021-12-14T10:48:51.564038Z"
    }
   },
   "outputs": [],
   "source": [
    "data = races_df.join(runs_df, on='race_id', how='right')\n",
    "X = data[data.columns[:-14]] \n",
    "ss = preprocessing.StandardScaler()\n",
    "X = pd.DataFrame(ss.fit_transform(X),columns = X.columns)\n",
    "\n",
    "y_won = data[data.columns[-14:]].applymap(lambda x: 1.0 if 0.5 < x < 1.5 else 0.0) \n",
    "\n",
    "y_won.columns = ['1','2','3','4','5','6','7','8','9','10','11','12','13','14']\n",
    "y_won.iloc[1]\n",
    "y = []\n",
    "for i in range(y_won.shape[0]):\n",
    "    for n,j in enumerate(y_won.iloc[i]):\n",
    "        if j==1:\n",
    "            y.append(n+1)\n",
    "            break\n",
    "\n",
    "print(X.shape)\n",
    "print(y_won.shape)\n",
    "\n",
    "# split data into train and test sets\n",
    "y_won2 = pd.Series(y)\n",
    "X_train, X_test, y_train, y_test = model_selection.train_test_split(X, y_won2, train_size=0.7, test_size=0.3, random_state=1)\n",
    "\n",
    "print(\"For machine learning:\")\n",
    "print('X_train', X_train.shape)\n",
    "print('y_train', y_train.shape)\n",
    "print('X_test', X_test.shape)\n",
    "print('y_test', y_test.shape)"
   ]
  },
  {
   "cell_type": "markdown",
   "metadata": {},
   "source": [
    "## 7. SVM <a id=section7>"
   ]
  },
  {
   "cell_type": "code",
   "execution_count": null,
   "metadata": {
    "execution": {
     "iopub.execute_input": "2021-12-14T10:48:52.009178Z",
     "iopub.status.busy": "2021-12-14T10:48:52.008958Z",
     "iopub.status.idle": "2021-12-14T10:48:52.075491Z",
     "shell.execute_reply": "2021-12-14T10:48:52.074827Z",
     "shell.execute_reply.started": "2021-12-14T10:48:52.009152Z"
    }
   },
   "outputs": [],
   "source": [
    "model = SVC()"
   ]
  },
  {
   "cell_type": "code",
   "execution_count": null,
   "metadata": {
    "execution": {
     "iopub.execute_input": "2021-12-14T10:48:52.079771Z",
     "iopub.status.busy": "2021-12-14T10:48:52.079506Z",
     "iopub.status.idle": "2021-12-14T10:48:57.037764Z",
     "shell.execute_reply": "2021-12-14T10:48:57.036985Z",
     "shell.execute_reply.started": "2021-12-14T10:48:52.079727Z"
    }
   },
   "outputs": [],
   "source": [
    "model.fit(X_train, y_train)"
   ]
  },
  {
   "cell_type": "code",
   "execution_count": null,
   "metadata": {
    "execution": {
     "iopub.execute_input": "2021-12-14T10:48:57.039476Z",
     "iopub.status.busy": "2021-12-14T10:48:57.039198Z",
     "iopub.status.idle": "2021-12-14T10:48:58.354892Z",
     "shell.execute_reply": "2021-12-14T10:48:58.354195Z",
     "shell.execute_reply.started": "2021-12-14T10:48:57.039439Z"
    }
   },
   "outputs": [],
   "source": [
    "print('Base SVM model: ', model.score(X_test, y_test))"
   ]
  },
  {
   "cell_type": "markdown",
   "metadata": {},
   "source": [
    "### 7.1 Tune Parameter <a id=section701>\n",
    "\n",
    "**1. Regularization (C)**"
   ]
  },
  {
   "cell_type": "code",
   "execution_count": null,
   "metadata": {
    "execution": {
     "iopub.execute_input": "2021-12-14T10:48:58.356449Z",
     "iopub.status.busy": "2021-12-14T10:48:58.356183Z",
     "iopub.status.idle": "2021-12-14T10:49:05.003087Z",
     "shell.execute_reply": "2021-12-14T10:49:05.002279Z",
     "shell.execute_reply.started": "2021-12-14T10:48:58.356413Z"
    }
   },
   "outputs": [],
   "source": [
    "model_C = SVC(C=1)\n",
    "model_C.fit(X_train, y_train)\n",
    "print('Regularization SVM model C=1: ', model_C.score(X_test, y_test))"
   ]
  },
  {
   "cell_type": "code",
   "execution_count": null,
   "metadata": {
    "execution": {
     "iopub.execute_input": "2021-12-14T10:49:05.004679Z",
     "iopub.status.busy": "2021-12-14T10:49:05.004418Z",
     "iopub.status.idle": "2021-12-14T10:49:12.518224Z",
     "shell.execute_reply": "2021-12-14T10:49:12.517557Z",
     "shell.execute_reply.started": "2021-12-14T10:49:05.004647Z"
    }
   },
   "outputs": [],
   "source": [
    "model_C = SVC(C=10)\n",
    "model_C.fit(X_train, y_train)\n",
    "print('Regularization SVM model C=10: ', model_C.score(X_test, y_test))"
   ]
  },
  {
   "cell_type": "markdown",
   "metadata": {},
   "source": [
    "**2. Gamma**"
   ]
  },
  {
   "cell_type": "code",
   "execution_count": null,
   "metadata": {
    "execution": {
     "iopub.execute_input": "2021-12-14T10:49:12.519887Z",
     "iopub.status.busy": "2021-12-14T10:49:12.519624Z",
     "iopub.status.idle": "2021-12-14T10:49:20.304420Z",
     "shell.execute_reply": "2021-12-14T10:49:20.303569Z",
     "shell.execute_reply.started": "2021-12-14T10:49:12.519852Z"
    }
   },
   "outputs": [],
   "source": [
    "model_g = SVC(gamma=10)\n",
    "model_g.fit(X_train, y_train)\n",
    "print('Gamma SVM model gamma=10: ', model_g.score(X_test, y_test))"
   ]
  },
  {
   "cell_type": "markdown",
   "metadata": {},
   "source": [
    "**3. Kernel**"
   ]
  },
  {
   "cell_type": "code",
   "execution_count": null,
   "metadata": {
    "execution": {
     "iopub.execute_input": "2021-12-14T10:49:20.306243Z",
     "iopub.status.busy": "2021-12-14T10:49:20.305976Z",
     "iopub.status.idle": "2021-12-14T10:49:40.631964Z",
     "shell.execute_reply": "2021-12-14T10:49:40.631215Z",
     "shell.execute_reply.started": "2021-12-14T10:49:20.306203Z"
    }
   },
   "outputs": [],
   "source": [
    "model_linear_kernal = SVC(kernel='linear')\n",
    "model_linear_kernal.fit(X_train, y_train)"
   ]
  },
  {
   "cell_type": "code",
   "execution_count": null,
   "metadata": {},
   "outputs": [],
   "source": [
    "yPredict = model_linear_kernal.predict(X_test)"
   ]
  },
  {
   "cell_type": "code",
   "execution_count": null,
   "metadata": {
    "execution": {
     "iopub.execute_input": "2021-12-14T10:49:40.633558Z",
     "iopub.status.busy": "2021-12-14T10:49:40.633283Z",
     "iopub.status.idle": "2021-12-14T10:49:41.702699Z",
     "shell.execute_reply": "2021-12-14T10:49:41.701990Z",
     "shell.execute_reply.started": "2021-12-14T10:49:40.633516Z"
    }
   },
   "outputs": [],
   "source": [
    "print('Kernel SVM model linear ', model_linear_kernal.score(X_test, y_test))"
   ]
  },
  {
   "cell_type": "code",
   "execution_count": null,
   "metadata": {},
   "outputs": [],
   "source": [
    "print(classification_report(y_test, yPredict))"
   ]
  },
  {
   "cell_type": "code",
   "execution_count": null,
   "metadata": {
    "execution": {
     "iopub.execute_input": "2021-12-14T10:49:41.704380Z",
     "iopub.status.busy": "2021-12-14T10:49:41.703868Z",
     "iopub.status.idle": "2021-12-14T10:49:48.221169Z",
     "shell.execute_reply": "2021-12-14T10:49:48.220262Z",
     "shell.execute_reply.started": "2021-12-14T10:49:41.704341Z"
    }
   },
   "outputs": [],
   "source": [
    "model_rbf_kernal = SVC(kernel='rbf')\n",
    "model_rbf_kernal.fit(X_train, y_train)\n",
    "print('Kernel SVM model rbf ', model_rbf_kernal.score(X_test, y_test))"
   ]
  },
  {
   "cell_type": "markdown",
   "metadata": {},
   "source": [
    "## 8. Random Forest <a id=section8>"
   ]
  },
  {
   "cell_type": "code",
   "execution_count": null,
   "metadata": {
    "execution": {
     "iopub.execute_input": "2021-12-14T10:49:48.223202Z",
     "iopub.status.busy": "2021-12-14T10:49:48.222875Z",
     "iopub.status.idle": "2021-12-14T10:49:48.905724Z",
     "shell.execute_reply": "2021-12-14T10:49:48.904870Z",
     "shell.execute_reply.started": "2021-12-14T10:49:48.223159Z"
    }
   },
   "outputs": [],
   "source": [
    "model = RandomForestClassifier(n_estimators=20)\n",
    "model.fit(X_train, y_train)"
   ]
  },
  {
   "cell_type": "code",
   "execution_count": null,
   "metadata": {
    "execution": {
     "iopub.execute_input": "2021-12-14T10:49:48.907596Z",
     "iopub.status.busy": "2021-12-14T10:49:48.907287Z",
     "iopub.status.idle": "2021-12-14T10:49:48.932102Z",
     "shell.execute_reply": "2021-12-14T10:49:48.931435Z",
     "shell.execute_reply.started": "2021-12-14T10:49:48.907558Z"
    }
   },
   "outputs": [],
   "source": [
    "print('Random forest base model: ', model.score(X_test, y_test))"
   ]
  },
  {
   "cell_type": "code",
   "execution_count": null,
   "metadata": {
    "execution": {
     "iopub.execute_input": "2021-12-14T10:49:48.933584Z",
     "iopub.status.busy": "2021-12-14T10:49:48.933177Z",
     "iopub.status.idle": "2021-12-14T10:49:48.955126Z",
     "shell.execute_reply": "2021-12-14T10:49:48.954533Z",
     "shell.execute_reply.started": "2021-12-14T10:49:48.933544Z"
    }
   },
   "outputs": [],
   "source": [
    "y_predicted = model.predict(X_test)"
   ]
  },
  {
   "cell_type": "markdown",
   "metadata": {},
   "source": [
    "**Confusion Matrix**"
   ]
  },
  {
   "cell_type": "code",
   "execution_count": null,
   "metadata": {
    "execution": {
     "iopub.execute_input": "2021-12-14T10:49:48.956878Z",
     "iopub.status.busy": "2021-12-14T10:49:48.956245Z",
     "iopub.status.idle": "2021-12-14T10:49:48.967530Z",
     "shell.execute_reply": "2021-12-14T10:49:48.966791Z",
     "shell.execute_reply.started": "2021-12-14T10:49:48.956842Z"
    }
   },
   "outputs": [],
   "source": [
    "from sklearn.metrics import confusion_matrix\n",
    "cm = confusion_matrix(y_test, y_predicted)\n",
    "cm"
   ]
  },
  {
   "cell_type": "code",
   "execution_count": null,
   "metadata": {
    "execution": {
     "iopub.execute_input": "2021-12-14T10:49:48.969126Z",
     "iopub.status.busy": "2021-12-14T10:49:48.968668Z",
     "iopub.status.idle": "2021-12-14T10:49:50.238602Z",
     "shell.execute_reply": "2021-12-14T10:49:50.237826Z",
     "shell.execute_reply.started": "2021-12-14T10:49:48.969087Z"
    }
   },
   "outputs": [],
   "source": [
    "%matplotlib inline\n",
    "import matplotlib.pyplot as plt\n",
    "import seaborn as sn\n",
    "plt.figure(figsize=(10,7))\n",
    "sn.heatmap(cm, annot=True)\n",
    "plt.xlabel('Predicted')\n",
    "plt.ylabel('Truth')"
   ]
  },
  {
   "cell_type": "markdown",
   "metadata": {},
   "source": [
    "### 8.1 Tune Parameter <a id=section801>"
   ]
  },
  {
   "cell_type": "code",
   "execution_count": null,
   "metadata": {
    "execution": {
     "iopub.execute_input": "2021-12-14T10:49:50.244841Z",
     "iopub.status.busy": "2021-12-14T10:49:50.242749Z",
     "iopub.status.idle": "2021-12-14T10:49:52.614839Z",
     "shell.execute_reply": "2021-12-14T10:49:52.614154Z",
     "shell.execute_reply.started": "2021-12-14T10:49:50.244799Z"
    }
   },
   "outputs": [],
   "source": [
    "model = RandomForestClassifier(n_estimators=100)\n",
    "model.fit(X_train, y_train)"
   ]
  },
  {
   "cell_type": "code",
   "execution_count": null,
   "metadata": {
    "execution": {
     "iopub.execute_input": "2021-12-14T10:49:52.616455Z",
     "iopub.status.busy": "2021-12-14T10:49:52.616192Z",
     "iopub.status.idle": "2021-12-14T10:49:52.691804Z",
     "shell.execute_reply": "2021-12-14T10:49:52.691144Z",
     "shell.execute_reply.started": "2021-12-14T10:49:52.616421Z"
    }
   },
   "outputs": [],
   "source": [
    "print('Random forest model n-estimater = 100 : ', model.score(X_test, y_test))"
   ]
  },
  {
   "cell_type": "code",
   "execution_count": null,
   "metadata": {
    "execution": {
     "iopub.execute_input": "2021-12-14T10:49:52.693121Z",
     "iopub.status.busy": "2021-12-14T10:49:52.692882Z"
    }
   },
   "outputs": [],
   "source": [
    "scores = []\n",
    "\n",
    "params = {'bootstrap': [True, False],\n",
    " 'max_depth': [10,50], # 100\n",
    "#  'max_features': ['auto', 'sqrt'],\n",
    " 'min_samples_leaf': [1, 2],\n",
    " 'min_samples_split': [2, 5],\n",
    " 'n_estimators': [100,500]} # 1000, 2000\n",
    "\n",
    "clf =  GridSearchCV(RandomForestClassifier(), param_grid=params, cv=3, return_train_score=False)\n",
    "\n",
    "clf.fit(X_train, y_train)\n",
    "\n",
    "clf.best_params_,clf.best_score_"
   ]
  },
  {
   "cell_type": "code",
   "execution_count": null,
   "metadata": {},
   "outputs": [],
   "source": [
    "y_predicted = model.predict(X_test)\n",
    "from sklearn.metrics import confusion_matrix\n",
    "cm = confusion_matrix(y_test, y_predicted)\n",
    "cm"
   ]
  },
  {
   "cell_type": "code",
   "execution_count": null,
   "metadata": {},
   "outputs": [],
   "source": [
    "%matplotlib inline\n",
    "import matplotlib.pyplot as plt\n",
    "import seaborn as sn\n",
    "plt.figure(figsize=(10,7))\n",
    "sn.heatmap(cm, annot=True)\n",
    "plt.xlabel('Predicted')\n",
    "plt.ylabel('Truth')"
   ]
  },
  {
   "cell_type": "code",
   "execution_count": null,
   "metadata": {},
   "outputs": [],
   "source": [
    "print(classification_report(y_test, y_predicted))"
   ]
  },
  {
   "cell_type": "markdown",
   "metadata": {},
   "source": [
    "## 9. Naive Bayes <a id=section9>"
   ]
  },
  {
   "cell_type": "code",
   "execution_count": null,
   "metadata": {},
   "outputs": [],
   "source": [
    "model = GaussianNB()"
   ]
  },
  {
   "cell_type": "code",
   "execution_count": null,
   "metadata": {},
   "outputs": [],
   "source": [
    " naiveModel = model.fit(X_train,y_train)"
   ]
  },
  {
   "cell_type": "code",
   "execution_count": null,
   "metadata": {},
   "outputs": [],
   "source": [
    "y_predicted = naiveModel.predict(X_test)"
   ]
  },
  {
   "cell_type": "code",
   "execution_count": null,
   "metadata": {},
   "outputs": [],
   "source": [
    "naiveModel.score(X_test,y_test)"
   ]
  },
  {
   "cell_type": "code",
   "execution_count": null,
   "metadata": {},
   "outputs": [],
   "source": [
    "naiveModel.predict_proba(X_test)"
   ]
  },
  {
   "cell_type": "markdown",
   "metadata": {},
   "source": [
    "### 9.1 Tune Parameter <a id=section901>"
   ]
  },
  {
   "cell_type": "markdown",
   "metadata": {},
   "source": [
    "**Calculate the score using cross validation**"
   ]
  },
  {
   "cell_type": "code",
   "execution_count": null,
   "metadata": {},
   "outputs": [],
   "source": [
    "cross_val_score(GaussianNB(),X_train, y_train, cv=5)"
   ]
  },
  {
   "cell_type": "code",
   "execution_count": null,
   "metadata": {},
   "outputs": [],
   "source": [
    "print(classification_report(y_test, y_predicted))"
   ]
  },
  {
   "cell_type": "markdown",
   "metadata": {},
   "source": [
    "## 10. KNN <a id=section10>"
   ]
  },
  {
   "cell_type": "code",
   "execution_count": null,
   "metadata": {},
   "outputs": [],
   "source": [
    "knn = KNeighborsClassifier(n_neighbors=10)"
   ]
  },
  {
   "cell_type": "code",
   "execution_count": null,
   "metadata": {},
   "outputs": [],
   "source": [
    "knn.fit(X_train, y_train)"
   ]
  },
  {
   "cell_type": "code",
   "execution_count": null,
   "metadata": {},
   "outputs": [],
   "source": [
    "print('KNN with n_neighbors=10 :', knn.score(X_test, y_test))"
   ]
  },
  {
   "cell_type": "markdown",
   "metadata": {},
   "source": [
    "**Confusion Matrix**"
   ]
  },
  {
   "cell_type": "code",
   "execution_count": null,
   "metadata": {},
   "outputs": [],
   "source": [
    "y_pred = knn.predict(X_test)\n",
    "cm = confusion_matrix(y_test, y_pred)\n",
    "cm"
   ]
  },
  {
   "cell_type": "code",
   "execution_count": null,
   "metadata": {},
   "outputs": [],
   "source": [
    "%matplotlib inline\n",
    "import matplotlib.pyplot as plt\n",
    "import seaborn as sn\n",
    "plt.figure(figsize=(7,5))\n",
    "sn.heatmap(cm, annot=True)\n",
    "plt.xlabel('Predicted')\n",
    "plt.ylabel('Truth')"
   ]
  },
  {
   "cell_type": "markdown",
   "metadata": {},
   "source": [
    "**Print classification report for precesion, recall and f1-score for each classes**"
   ]
  },
  {
   "cell_type": "code",
   "execution_count": null,
   "metadata": {},
   "outputs": [],
   "source": [
    "print(classification_report(y_test, y_pred))"
   ]
  },
  {
   "cell_type": "markdown",
   "metadata": {},
   "source": [
    "## 11. Decision Tree <a id=section11>"
   ]
  },
  {
   "cell_type": "code",
   "execution_count": null,
   "metadata": {},
   "outputs": [],
   "source": [
    "model = tree.DecisionTreeClassifier()"
   ]
  },
  {
   "cell_type": "code",
   "execution_count": null,
   "metadata": {},
   "outputs": [],
   "source": [
    "model = model.fit(X_train, y_train)"
   ]
  },
  {
   "cell_type": "code",
   "execution_count": null,
   "metadata": {},
   "outputs": [],
   "source": [
    "model.score(X_test, y_test)"
   ]
  },
  {
   "cell_type": "code",
   "execution_count": null,
   "metadata": {},
   "outputs": [],
   "source": [
    "y_pred = model.predict(X_test)\n",
    "print(classification_report(y_test, y_pred))"
   ]
  },
  {
   "cell_type": "markdown",
   "metadata": {},
   "source": [
    "## 12. XGBoost <a id=section12>"
   ]
  },
  {
   "cell_type": "code",
   "execution_count": null,
   "metadata": {},
   "outputs": [],
   "source": [
    "space={'max_depth': hp.quniform(\"max_depth\", 3, 18, 1),\n",
    "        'gamma': hp.uniform ('gamma', 1,9),\n",
    "        'reg_alpha' : hp.quniform('reg_alpha', 40,180,1),\n",
    "        'reg_lambda' : hp.uniform('reg_lambda', 0,1),\n",
    "        'colsample_bytree' : hp.uniform('colsample_bytree', 0.5,1),\n",
    "        'min_child_weight' : hp.quniform('min_child_weight', 0, 10, 1),\n",
    "        'n_estimators': 180,\n",
    "        'seed': 0\n",
    "    }"
   ]
  },
  {
   "cell_type": "code",
   "execution_count": null,
   "metadata": {},
   "outputs": [],
   "source": [
    "def objective(space):\n",
    "    clf=xgb.XGBClassifier(\n",
    "                    n_estimators =space['n_estimators'], max_depth = int(space['max_depth']), gamma = space['gamma'],\n",
    "                    reg_alpha = int(space['reg_alpha']),min_child_weight=int(space['min_child_weight']),\n",
    "                    colsample_bytree=int(space['colsample_bytree']))\n",
    "    \n",
    "    evaluation = [( X_train, y_train), ( X_test, y_test)]\n",
    "    \n",
    "    clf.fit(X_train, y_train,\n",
    "            eval_set=evaluation, eval_metric=\"auc\",\n",
    "            early_stopping_rounds=10,verbose=False)\n",
    "    \n",
    "\n",
    "    pred = clf.predict(X_test)\n",
    "    accuracy = accuracy_score(y_test, pred>0.5)\n",
    "    print (\"SCORE:\", accuracy)\n",
    "    return {'loss': -accuracy, 'status': STATUS_OK }"
   ]
  },
  {
   "cell_type": "code",
   "execution_count": null,
   "metadata": {},
   "outputs": [],
   "source": [
    "trials = Trials()\n",
    "\n",
    "best_hyperparams = fmin(fn = objective,\n",
    "                        space = space,\n",
    "                        algo = tpe.suggest,\n",
    "                        max_evals = 100,\n",
    "                        trials = trials)"
   ]
  },
  {
   "cell_type": "code",
   "execution_count": null,
   "metadata": {},
   "outputs": [],
   "source": [
    "print(\"The best hyperparameters are : \",\"\\n\")\n",
    "print(best_hyperparams)"
   ]
  },
  {
   "cell_type": "code",
   "execution_count": null,
   "metadata": {},
   "outputs": [],
   "source": []
  }
 ],
 "metadata": {
  "kernelspec": {
   "display_name": "Python 3 (ipykernel)",
   "language": "python",
   "name": "python3"
  },
  "language_info": {
   "codemirror_mode": {
    "name": "ipython",
    "version": 3
   },
   "file_extension": ".py",
   "mimetype": "text/x-python",
   "name": "python",
   "nbconvert_exporter": "python",
   "pygments_lexer": "ipython3",
   "version": "3.9.7"
  }
 },
 "nbformat": 4,
 "nbformat_minor": 4
}
